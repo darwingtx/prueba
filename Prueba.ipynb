{
 "cells": [
  {
   "cell_type": "code",
   "execution_count": 3,
   "id": "edbc4237-c39c-45fd-82b0-a24cb15f3076",
   "metadata": {},
   "outputs": [
    {
     "data": {
      "text/plain": [
       "True"
      ]
     },
     "execution_count": 3,
     "metadata": {},
     "output_type": "execute_result"
    }
   ],
   "source": [
    "import requests as rq\n",
    "import os\n",
    "from dotenv import load_dotenv\n",
    "load_dotenv()"
   ]
  },
  {
   "cell_type": "code",
   "execution_count": 12,
   "id": "296e90e9-c3fd-4684-b25c-b31725b6adc2",
   "metadata": {},
   "outputs": [],
   "source": [
    "URL = os.getenv(\"URL\")\n",
    "\n",
    "params= {\n",
    "    'start_date': '2024-03-15',\n",
    "    'end_date' : '2024-04-14'\n",
    "}\n",
    "\n",
    "try:\n",
    "    response = rq.get(URL, params=params)\n",
    "    data = response.json()\n",
    "   \n",
    "except rq.exceptions.HTTPError as err:\n",
    "    raise SystemExit(err)"
   ]
  },
  {
   "cell_type": "markdown",
   "id": "5877ab5c-02f0-4ac4-af76-cf76858cb235",
   "metadata": {},
   "source": [
    "### ¿Cuántos días se obtienen de datos?"
   ]
  },
  {
   "cell_type": "code",
   "execution_count": 51,
   "id": "edb8db32-9034-4db3-99f1-af2a68a583c8",
   "metadata": {
    "scrolled": true
   },
   "outputs": [
    {
     "name": "stdout",
     "output_type": "stream",
     "text": [
      "30\n"
     ]
    }
   ],
   "source": [
    "print(data[\"total_days\"])"
   ]
  },
  {
   "cell_type": "markdown",
   "id": "deea6f46-a2c1-4964-8f4c-5fb67605848f",
   "metadata": {},
   "source": [
    "## Limpieza de datos"
   ]
  },
  {
   "cell_type": "markdown",
   "id": "55dcbddb-e03c-4c93-a0a5-ab5d22156a3a",
   "metadata": {},
   "source": [
    "En la petición se obtuvieron el total de 30 dias"
   ]
  },
  {
   "cell_type": "code",
   "execution_count": 13,
   "id": "13a3fb3f-0ace-4603-a167-5e8ea2bcd6b4",
   "metadata": {},
   "outputs": [],
   "source": [
    "import pandas as pd"
   ]
  },
  {
   "cell_type": "code",
   "execution_count": 84,
   "id": "50baa911-56a0-41ad-977d-5e28ddc51bbd",
   "metadata": {},
   "outputs": [
    {
     "data": {
      "text/html": [
       "<div>\n",
       "<style scoped>\n",
       "    .dataframe tbody tr th:only-of-type {\n",
       "        vertical-align: middle;\n",
       "    }\n",
       "\n",
       "    .dataframe tbody tr th {\n",
       "        vertical-align: top;\n",
       "    }\n",
       "\n",
       "    .dataframe thead th {\n",
       "        text-align: right;\n",
       "    }\n",
       "</style>\n",
       "<table border=\"1\" class=\"dataframe\">\n",
       "  <thead>\n",
       "    <tr style=\"text-align: right;\">\n",
       "      <th></th>\n",
       "      <th>hora</th>\n",
       "      <th>fecha</th>\n",
       "      <th>precio</th>\n",
       "    </tr>\n",
       "  </thead>\n",
       "  <tbody>\n",
       "    <tr>\n",
       "      <th>0</th>\n",
       "      <td>01:00</td>\n",
       "      <td>2024-03-15</td>\n",
       "      <td>551.70</td>\n",
       "    </tr>\n",
       "    <tr>\n",
       "      <th>1</th>\n",
       "      <td>02:00</td>\n",
       "      <td>2024-03-15</td>\n",
       "      <td>551.70</td>\n",
       "    </tr>\n",
       "    <tr>\n",
       "      <th>2</th>\n",
       "      <td>03:00</td>\n",
       "      <td>2024-03-15</td>\n",
       "      <td>551.70</td>\n",
       "    </tr>\n",
       "    <tr>\n",
       "      <th>3</th>\n",
       "      <td>04:00</td>\n",
       "      <td>2024-03-15</td>\n",
       "      <td>497.36</td>\n",
       "    </tr>\n",
       "    <tr>\n",
       "      <th>4</th>\n",
       "      <td>05:00</td>\n",
       "      <td>2024-03-15</td>\n",
       "      <td>551.70</td>\n",
       "    </tr>\n",
       "    <tr>\n",
       "      <th>...</th>\n",
       "      <td>...</td>\n",
       "      <td>...</td>\n",
       "      <td>...</td>\n",
       "    </tr>\n",
       "    <tr>\n",
       "      <th>715</th>\n",
       "      <td>20:00</td>\n",
       "      <td>2024-04-14</td>\n",
       "      <td>1056.17</td>\n",
       "    </tr>\n",
       "    <tr>\n",
       "      <th>716</th>\n",
       "      <td>21:00</td>\n",
       "      <td>2024-04-14</td>\n",
       "      <td>1056.17</td>\n",
       "    </tr>\n",
       "    <tr>\n",
       "      <th>717</th>\n",
       "      <td>22:00</td>\n",
       "      <td>2024-04-14</td>\n",
       "      <td>1056.17</td>\n",
       "    </tr>\n",
       "    <tr>\n",
       "      <th>718</th>\n",
       "      <td>23:00</td>\n",
       "      <td>2024-04-14</td>\n",
       "      <td>1056.17</td>\n",
       "    </tr>\n",
       "    <tr>\n",
       "      <th>719</th>\n",
       "      <td>00:00</td>\n",
       "      <td>2024-04-14</td>\n",
       "      <td>1056.17</td>\n",
       "    </tr>\n",
       "  </tbody>\n",
       "</table>\n",
       "<p>720 rows × 3 columns</p>\n",
       "</div>"
      ],
      "text/plain": [
       "      hora      fecha   precio\n",
       "0    01:00 2024-03-15   551.70\n",
       "1    02:00 2024-03-15   551.70\n",
       "2    03:00 2024-03-15   551.70\n",
       "3    04:00 2024-03-15   497.36\n",
       "4    05:00 2024-03-15   551.70\n",
       "..     ...        ...      ...\n",
       "715  20:00 2024-04-14  1056.17\n",
       "716  21:00 2024-04-14  1056.17\n",
       "717  22:00 2024-04-14  1056.17\n",
       "718  23:00 2024-04-14  1056.17\n",
       "719  00:00 2024-04-14  1056.17\n",
       "\n",
       "[720 rows x 3 columns]"
      ]
     },
     "execution_count": 84,
     "metadata": {},
     "output_type": "execute_result"
    }
   ],
   "source": [
    "clean_data = data['data']\n",
    "df = pd.DataFrame(clean_data)\n",
    "df = df.reset_index()\n",
    "df = df.rename(columns={'index': 'hora'})\n",
    "df_long = pd.melt(df, id_vars=['hora'], var_name='fecha', value_name='precio')\n",
    "df_temp = df_long[\"hora\"].str.replace(\"24:00\",\"00:00\", regex=True)\n",
    "df_long[\"hora\"] = df_temp\n",
    "df_long[\"fecha\"] = pd.to_datetime(df_long[\"fecha\"])\n",
    "df_long"
   ]
  },
  {
   "cell_type": "code",
   "execution_count": 47,
   "id": "b13aa777-2de3-4def-ade3-e02015c7a14d",
   "metadata": {},
   "outputs": [
    {
     "name": "stdout",
     "output_type": "stream",
     "text": [
      "hora      0\n",
      "fecha     0\n",
      "precio    4\n",
      "dtype: int64\n"
     ]
    }
   ],
   "source": [
    "print(df_long.isnull().sum())"
   ]
  },
  {
   "cell_type": "code",
   "execution_count": 70,
   "id": "e32db889-0295-45d5-8e42-1ecb877a87a4",
   "metadata": {},
   "outputs": [
    {
     "data": {
      "text/html": [
       "<div>\n",
       "<style scoped>\n",
       "    .dataframe tbody tr th:only-of-type {\n",
       "        vertical-align: middle;\n",
       "    }\n",
       "\n",
       "    .dataframe tbody tr th {\n",
       "        vertical-align: top;\n",
       "    }\n",
       "\n",
       "    .dataframe thead th {\n",
       "        text-align: right;\n",
       "    }\n",
       "</style>\n",
       "<table border=\"1\" class=\"dataframe\">\n",
       "  <thead>\n",
       "    <tr style=\"text-align: right;\">\n",
       "      <th></th>\n",
       "      <th>hora</th>\n",
       "      <th>fecha</th>\n",
       "      <th>precio</th>\n",
       "    </tr>\n",
       "  </thead>\n",
       "  <tbody>\n",
       "    <tr>\n",
       "      <th>566</th>\n",
       "      <td>15:00</td>\n",
       "      <td>2024-04-08</td>\n",
       "      <td>NaN</td>\n",
       "    </tr>\n",
       "    <tr>\n",
       "      <th>590</th>\n",
       "      <td>15:00</td>\n",
       "      <td>2024-04-09</td>\n",
       "      <td>NaN</td>\n",
       "    </tr>\n",
       "    <tr>\n",
       "      <th>591</th>\n",
       "      <td>16:00</td>\n",
       "      <td>2024-04-09</td>\n",
       "      <td>NaN</td>\n",
       "    </tr>\n",
       "    <tr>\n",
       "      <th>592</th>\n",
       "      <td>17:00</td>\n",
       "      <td>2024-04-09</td>\n",
       "      <td>NaN</td>\n",
       "    </tr>\n",
       "  </tbody>\n",
       "</table>\n",
       "</div>"
      ],
      "text/plain": [
       "      hora      fecha  precio\n",
       "566  15:00 2024-04-08     NaN\n",
       "590  15:00 2024-04-09     NaN\n",
       "591  16:00 2024-04-09     NaN\n",
       "592  17:00 2024-04-09     NaN"
      ]
     },
     "execution_count": 70,
     "metadata": {},
     "output_type": "execute_result"
    }
   ],
   "source": [
    "df_long[df_long[\"precio\"].isnull()]"
   ]
  },
  {
   "cell_type": "markdown",
   "id": "413e9e62-e92f-499a-9abc-07d10ea9df32",
   "metadata": {},
   "source": [
    "### ¿Cuáles son las horas donde hacen falta valores?\n",
    "15:00\t2024-04-08\tNaN\r",
    "\t15:00\t2024-04-09\tNaN1\t16:00\t2024-04-09\tNa92\t17:9\n",
    "Estas son loas horas faltantes"
   ]
  },
  {
   "cell_type": "markdown",
   "id": "660e445e-087d-4a27-aabf-eee939ab4ee6",
   "metadata": {},
   "source": [
    "Remplazar datos nulos"
   ]
  },
  {
   "cell_type": "code",
   "execution_count": 78,
   "id": "02e61f6a-780b-4d06-b46e-e454b9eead00",
   "metadata": {},
   "outputs": [],
   "source": [
    "precio_nan = df_long[df_long[\"precio\"].isnull()].index\n",
    "for x in precio_nan:\n",
    "    if x > 0:\n",
    "        df_long.loc[x, \"precio\"] = df_long.loc[x - 1, \"precio\"]"
   ]
  },
  {
   "cell_type": "code",
   "execution_count": 82,
   "id": "5d637cab-df90-4934-80b0-174e19b92b36",
   "metadata": {},
   "outputs": [
    {
     "name": "stdout",
     "output_type": "stream",
     "text": [
      "hora      0\n",
      "fecha     0\n",
      "precio    0\n",
      "dtype: int64\n"
     ]
    }
   ],
   "source": [
    "print(df_long.isnull().sum())\n"
   ]
  },
  {
   "cell_type": "markdown",
   "id": "c7b1ca47-44f3-4643-908e-85ff52b8a627",
   "metadata": {},
   "source": [
    "## Cálculos de Promedios"
   ]
  },
  {
   "cell_type": "code",
   "execution_count": 157,
   "id": "7a909a73-7a0f-4eca-8337-4ed6b289f51d",
   "metadata": {},
   "outputs": [
    {
     "data": {
      "text/html": [
       "<div>\n",
       "<style scoped>\n",
       "    .dataframe tbody tr th:only-of-type {\n",
       "        vertical-align: middle;\n",
       "    }\n",
       "\n",
       "    .dataframe tbody tr th {\n",
       "        vertical-align: top;\n",
       "    }\n",
       "\n",
       "    .dataframe thead th {\n",
       "        text-align: right;\n",
       "    }\n",
       "</style>\n",
       "<table border=\"1\" class=\"dataframe\">\n",
       "  <thead>\n",
       "    <tr style=\"text-align: right;\">\n",
       "      <th></th>\n",
       "      <th>fecha</th>\n",
       "      <th>precio_promedio</th>\n",
       "      <th>precio_7d</th>\n",
       "    </tr>\n",
       "  </thead>\n",
       "  <tbody>\n",
       "    <tr>\n",
       "      <th>0</th>\n",
       "      <td>2024-03-15</td>\n",
       "      <td>557.669167</td>\n",
       "      <td>NaN</td>\n",
       "    </tr>\n",
       "    <tr>\n",
       "      <th>1</th>\n",
       "      <td>2024-03-16</td>\n",
       "      <td>574.449167</td>\n",
       "      <td>NaN</td>\n",
       "    </tr>\n",
       "    <tr>\n",
       "      <th>2</th>\n",
       "      <td>2024-03-17</td>\n",
       "      <td>581.365000</td>\n",
       "      <td>NaN</td>\n",
       "    </tr>\n",
       "    <tr>\n",
       "      <th>3</th>\n",
       "      <td>2024-03-19</td>\n",
       "      <td>617.401667</td>\n",
       "      <td>NaN</td>\n",
       "    </tr>\n",
       "    <tr>\n",
       "      <th>4</th>\n",
       "      <td>2024-03-20</td>\n",
       "      <td>625.661667</td>\n",
       "      <td>NaN</td>\n",
       "    </tr>\n",
       "    <tr>\n",
       "      <th>5</th>\n",
       "      <td>2024-03-21</td>\n",
       "      <td>654.168333</td>\n",
       "      <td>NaN</td>\n",
       "    </tr>\n",
       "    <tr>\n",
       "      <th>6</th>\n",
       "      <td>2024-03-22</td>\n",
       "      <td>707.120417</td>\n",
       "      <td>616.833631</td>\n",
       "    </tr>\n",
       "    <tr>\n",
       "      <th>7</th>\n",
       "      <td>2024-03-23</td>\n",
       "      <td>715.151250</td>\n",
       "      <td>639.331071</td>\n",
       "    </tr>\n",
       "    <tr>\n",
       "      <th>8</th>\n",
       "      <td>2024-03-24</td>\n",
       "      <td>651.767500</td>\n",
       "      <td>650.376548</td>\n",
       "    </tr>\n",
       "    <tr>\n",
       "      <th>9</th>\n",
       "      <td>2024-03-25</td>\n",
       "      <td>735.623333</td>\n",
       "      <td>672.413452</td>\n",
       "    </tr>\n",
       "    <tr>\n",
       "      <th>10</th>\n",
       "      <td>2024-03-26</td>\n",
       "      <td>836.338750</td>\n",
       "      <td>703.690179</td>\n",
       "    </tr>\n",
       "    <tr>\n",
       "      <th>11</th>\n",
       "      <td>2024-03-27</td>\n",
       "      <td>927.815000</td>\n",
       "      <td>746.854940</td>\n",
       "    </tr>\n",
       "    <tr>\n",
       "      <th>12</th>\n",
       "      <td>2024-03-28</td>\n",
       "      <td>851.262083</td>\n",
       "      <td>775.011190</td>\n",
       "    </tr>\n",
       "    <tr>\n",
       "      <th>13</th>\n",
       "      <td>2024-03-29</td>\n",
       "      <td>812.670833</td>\n",
       "      <td>790.089821</td>\n",
       "    </tr>\n",
       "    <tr>\n",
       "      <th>14</th>\n",
       "      <td>2024-03-30</td>\n",
       "      <td>754.782083</td>\n",
       "      <td>795.751369</td>\n",
       "    </tr>\n",
       "    <tr>\n",
       "      <th>15</th>\n",
       "      <td>2024-03-31</td>\n",
       "      <td>711.511667</td>\n",
       "      <td>804.286250</td>\n",
       "    </tr>\n",
       "    <tr>\n",
       "      <th>16</th>\n",
       "      <td>2024-04-01</td>\n",
       "      <td>849.403333</td>\n",
       "      <td>820.540536</td>\n",
       "    </tr>\n",
       "    <tr>\n",
       "      <th>17</th>\n",
       "      <td>2024-04-02</td>\n",
       "      <td>1029.181250</td>\n",
       "      <td>848.089464</td>\n",
       "    </tr>\n",
       "    <tr>\n",
       "      <th>18</th>\n",
       "      <td>2024-04-03</td>\n",
       "      <td>1232.150833</td>\n",
       "      <td>891.566012</td>\n",
       "    </tr>\n",
       "    <tr>\n",
       "      <th>19</th>\n",
       "      <td>2024-04-04</td>\n",
       "      <td>1079.827083</td>\n",
       "      <td>924.218155</td>\n",
       "    </tr>\n",
       "    <tr>\n",
       "      <th>20</th>\n",
       "      <td>2024-04-05</td>\n",
       "      <td>972.507083</td>\n",
       "      <td>947.051905</td>\n",
       "    </tr>\n",
       "    <tr>\n",
       "      <th>21</th>\n",
       "      <td>2024-04-06</td>\n",
       "      <td>653.472083</td>\n",
       "      <td>932.579048</td>\n",
       "    </tr>\n",
       "    <tr>\n",
       "      <th>22</th>\n",
       "      <td>2024-04-07</td>\n",
       "      <td>630.482083</td>\n",
       "      <td>921.003393</td>\n",
       "    </tr>\n",
       "    <tr>\n",
       "      <th>23</th>\n",
       "      <td>2024-04-08</td>\n",
       "      <td>911.288696</td>\n",
       "      <td>929.844159</td>\n",
       "    </tr>\n",
       "    <tr>\n",
       "      <th>24</th>\n",
       "      <td>2024-04-09</td>\n",
       "      <td>981.529048</td>\n",
       "      <td>923.036701</td>\n",
       "    </tr>\n",
       "    <tr>\n",
       "      <th>25</th>\n",
       "      <td>2024-04-10</td>\n",
       "      <td>957.763750</td>\n",
       "      <td>883.838547</td>\n",
       "    </tr>\n",
       "    <tr>\n",
       "      <th>26</th>\n",
       "      <td>2024-04-11</td>\n",
       "      <td>1028.540000</td>\n",
       "      <td>876.511820</td>\n",
       "    </tr>\n",
       "    <tr>\n",
       "      <th>27</th>\n",
       "      <td>2024-04-12</td>\n",
       "      <td>1033.936667</td>\n",
       "      <td>885.287475</td>\n",
       "    </tr>\n",
       "    <tr>\n",
       "      <th>28</th>\n",
       "      <td>2024-04-13</td>\n",
       "      <td>1017.219583</td>\n",
       "      <td>937.251404</td>\n",
       "    </tr>\n",
       "    <tr>\n",
       "      <th>29</th>\n",
       "      <td>2024-04-14</td>\n",
       "      <td>1034.482083</td>\n",
       "      <td>994.965690</td>\n",
       "    </tr>\n",
       "  </tbody>\n",
       "</table>\n",
       "</div>"
      ],
      "text/plain": [
       "        fecha  precio_promedio   precio_7d\n",
       "0  2024-03-15       557.669167         NaN\n",
       "1  2024-03-16       574.449167         NaN\n",
       "2  2024-03-17       581.365000         NaN\n",
       "3  2024-03-19       617.401667         NaN\n",
       "4  2024-03-20       625.661667         NaN\n",
       "5  2024-03-21       654.168333         NaN\n",
       "6  2024-03-22       707.120417  616.833631\n",
       "7  2024-03-23       715.151250  639.331071\n",
       "8  2024-03-24       651.767500  650.376548\n",
       "9  2024-03-25       735.623333  672.413452\n",
       "10 2024-03-26       836.338750  703.690179\n",
       "11 2024-03-27       927.815000  746.854940\n",
       "12 2024-03-28       851.262083  775.011190\n",
       "13 2024-03-29       812.670833  790.089821\n",
       "14 2024-03-30       754.782083  795.751369\n",
       "15 2024-03-31       711.511667  804.286250\n",
       "16 2024-04-01       849.403333  820.540536\n",
       "17 2024-04-02      1029.181250  848.089464\n",
       "18 2024-04-03      1232.150833  891.566012\n",
       "19 2024-04-04      1079.827083  924.218155\n",
       "20 2024-04-05       972.507083  947.051905\n",
       "21 2024-04-06       653.472083  932.579048\n",
       "22 2024-04-07       630.482083  921.003393\n",
       "23 2024-04-08       911.288696  929.844159\n",
       "24 2024-04-09       981.529048  923.036701\n",
       "25 2024-04-10       957.763750  883.838547\n",
       "26 2024-04-11      1028.540000  876.511820\n",
       "27 2024-04-12      1033.936667  885.287475\n",
       "28 2024-04-13      1017.219583  937.251404\n",
       "29 2024-04-14      1034.482083  994.965690"
      ]
     },
     "execution_count": 157,
     "metadata": {},
     "output_type": "execute_result"
    }
   ],
   "source": [
    "promedio_df = df_long.groupby('fecha')['precio'].mean().reset_index()\n",
    "promedio_df = promedio_df.rename(columns={'precio': 'precio_promedio'})\n",
    "promedio_df['precio_7d'] = promedio_df['precio_promedio'].rolling(window=7).mean()\n",
    "promedio_df"
   ]
  },
  {
   "cell_type": "markdown",
   "id": "f9750eeb-6665-42cc-82d2-cf96b259bd8f",
   "metadata": {},
   "source": [
    "## Visualización"
   ]
  },
  {
   "cell_type": "code",
   "execution_count": 158,
   "id": "b766026b-5e6d-4175-ad8a-1f9cb16cbd6d",
   "metadata": {},
   "outputs": [],
   "source": [
    "import matplotlib.pyplot as plt"
   ]
  },
  {
   "cell_type": "code",
   "execution_count": 159,
   "id": "cb04eac6-ca0a-4eda-8e0c-60dc1f51a9c3",
   "metadata": {},
   "outputs": [
    {
     "data": {
      "image/png": "[encoded data removed]",
      "text/plain": [
       "<Figure size 1000x600 with 1 Axes>"
      ]
     },
     "metadata": {},
     "output_type": "display_data"
    }
   ],
   "source": [
    "plt.style.use('ggplot')\n",
    "plt.plot(promedio_df[\"fecha\"], promedio_df[\"precio_promedio\"], label=\"Promedio diario\")\n",
    "plt.plot(promedio_df[\"fecha\"], promedio_df[\"precio_7d\"],linestyle='dashed', label=\"Promedio movil 7 dias\")\n",
    "plt.xlabel(\"Fecha\")\n",
    "plt.ylabel(\"Precio\")\n",
    "plt.title(\"Promedio diario vs Promedio movil 7 dias\")\n",
    "plt.xticks(rotation=70)\n",
    "plt.legend()\n",
    "plt.savefig('image.png')\n",
    "plt.show()"
   ]
  },
  {
   "cell_type": "markdown",
   "id": "d9eff1e5-88e2-46ac-8462-e3a65253aa17",
   "metadata": {},
   "source": [
    "## ¿Cuál es el comportamiento del precio para el periodo?\n",
    "\n",
    "El comportamiento del precio es variante. Se observa tanto por el promedio diario como el movil de 7 dias que seguira subiendo el precio."
   ]
  },
  {
   "cell_type": "markdown",
   "id": "cc1a6e5a-0458-4bfc-976a-271b55d0225b",
   "metadata": {},
   "source": [
    "## Almacenamiento de Resultados"
   ]
  },
  {
   "cell_type": "code",
   "execution_count": 162,
   "id": "93e1304d-ba9f-46c6-b49a-7c70c7c9683c",
   "metadata": {},
   "outputs": [
    {
     "name": "stdout",
     "output_type": "stream",
     "text": [
      "se creo la tabla Precio\n"
     ]
    }
   ],
   "source": [
    "import sqlite3\n",
    "\n",
    "conn = sqlite3.connect('precios.db')\n",
    "try:\n",
    "    conn.execute(\"\"\"CREATE TABLE Precio (\n",
    "                              fecha DATATIME,\n",
    "                              precio_promedio FLOAT,\n",
    "                              precio_7d FLOAT\n",
    "                        )\"\"\")\n",
    "    print(\"se creo la tabla Precio\")                        \n",
    "except sqlite3.OperationalError:\n",
    "    print(\"La tabla Precio ya existe\")   "
   ]
  },
  {
   "cell_type": "code",
   "execution_count": 163,
   "id": "66bb7748-16fd-44da-9ba7-ae8d2fe41e82",
   "metadata": {},
   "outputs": [
    {
     "data": {
      "text/plain": [
       "30"
      ]
     },
     "execution_count": 163,
     "metadata": {},
     "output_type": "execute_result"
    }
   ],
   "source": [
    "promedio_df.to_sql(\"Precio\", conn, if_exists='append', index=False)"
   ]
  },
  {
   "cell_type": "code",
   "execution_count": 164,
   "id": "b03284ca-ad8d-4787-822c-942e76568ede",
   "metadata": {},
   "outputs": [],
   "source": [
    "conn.close()"
   ]
  },
  {
   "cell_type": "code",
   "execution_count": null,
   "id": "fb9ad5e4-1b1b-4465-92a5-156a93ffd895",
   "metadata": {},
   "outputs": [],
   "source": []
  }
 ],
 "metadata": {
  "kernelspec": {
   "display_name": "Python 3 (ipykernel)",
   "language": "python",
   "name": "python3"
  },
  "language_info": {
   "codemirror_mode": {
    "name": "ipython",
    "version": 3
   },
   "file_extension": ".py",
   "mimetype": "text/x-python",
   "name": "python",
   "nbconvert_exporter": "python",
   "pygments_lexer": "ipython3",
   "version": "3.11.5"
  }
 },
 "nbformat": 4,
 "nbformat_minor": 5
}
